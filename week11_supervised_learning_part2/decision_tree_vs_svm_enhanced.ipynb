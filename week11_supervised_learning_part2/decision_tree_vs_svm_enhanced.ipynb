{
 "cells": [
  {
   "cell_type": "markdown",
   "id": "20ff0c48",
   "metadata": {},
   "source": [
    "# 🌳 Decision Tree vs 🌐 SVM: Classification Boundary Visualization\n",
    "This notebook demonstrates how Decision Trees (axis-aligned) and SVMs (non-linear kernel) form decision boundaries on real and synthetic datasets.\n",
    "\n",
    "We'll use:\n",
    "- Iris dataset (2 classes, 2 features)\n",
    "- make_moons dataset (non-linear pattern)"
   ]
  },
  {
   "cell_type": "markdown",
   "id": "a84d95a8",
   "metadata": {},
   "source": [
    "## 🔢 1. Iris Dataset (Binary Classes)\n",
    "We use 2 features and 2 classes from the Iris dataset for 2D classification."
   ]
  },
  {
   "cell_type": "code",
   "execution_count": null,
   "id": "e93fc16c",
   "metadata": {},
   "outputs": [],
   "source": [
    "from sklearn.datasets import load_iris\n",
    "from sklearn.tree import DecisionTreeClassifier\n",
    "from sklearn.svm import SVC\n",
    "from sklearn.preprocessing import StandardScaler\n",
    "from matplotlib.colors import ListedColormap\n",
    "import matplotlib.pyplot as plt\n",
    "import numpy as np\n",
    "\n",
    "# Load and preprocess Iris dataset\n",
    "iris = load_iris()\n",
    "X = iris.data[:, [0, 2]]  # sepal length, petal length\n",
    "y = iris.target\n",
    "X = X[y != 2]\n",
    "y = y[y != 2]\n",
    "X_scaled = StandardScaler().fit_transform(X)"
   ]
  },
  {
   "cell_type": "code",
   "execution_count": null,
   "id": "d849b6cd",
   "metadata": {},
   "outputs": [],
   "source": [
    "def plot_decision_boundary(clf, X, y, ax, title):\n",
    "    cmap_light = ListedColormap(['#FFAAAA', '#AAAAFF'])\n",
    "    cmap_bold = ['#FF0000', '#0000FF']\n",
    "    x_min, x_max = X[:, 0].min() - 1, X[:, 0].max() + 1\n",
    "    y_min, y_max = X[:, 1].min() - 1, X[:, 1].max() + 1\n",
    "    xx, yy = np.meshgrid(np.linspace(x_min, x_max, 300),\n",
    "                         np.linspace(y_min, y_max, 300))\n",
    "    Z = clf.predict(np.c_[xx.ravel(), yy.ravel()])\n",
    "    Z = Z.reshape(xx.shape)\n",
    "    ax.contourf(xx, yy, Z, cmap=cmap_light, alpha=0.6)\n",
    "    for i, color in zip(np.unique(y), cmap_bold):\n",
    "        idx = np.where(y == i)\n",
    "        ax.scatter(X[idx, 0], X[idx, 1], c=color, label=f\"Class {i}\", edgecolor='k', s=30)\n",
    "    ax.set_title(title)\n",
    "    ax.legend()"
   ]
  },
  {
   "cell_type": "code",
   "execution_count": null,
   "id": "bc979ef9",
   "metadata": {},
   "outputs": [],
   "source": [
    "# Train models and plot boundaries\n",
    "tree = DecisionTreeClassifier(max_depth=3)\n",
    "tree.fit(X_scaled, y)\n",
    "svm = SVC(kernel='rbf', C=1)\n",
    "svm.fit(X_scaled, y)\n",
    "\n",
    "fig, axes = plt.subplots(1, 2, figsize=(12, 5))\n",
    "plot_decision_boundary(tree, X_scaled, y, axes[0], \"Decision Tree (Iris)\")\n",
    "plot_decision_boundary(svm, X_scaled, y, axes[1], \"SVM (RBF Kernel, Iris)\")\n",
    "plt.tight_layout()\n",
    "plt.show()"
   ]
  },
  {
   "cell_type": "markdown",
   "id": "c1e3799b",
   "metadata": {},
   "source": [
    "## 🌙 2. Non-Linear Dataset: make_moons\n",
    "`make_moons` is a classic toy dataset for testing non-linear classifiers."
   ]
  },
  {
   "cell_type": "code",
   "execution_count": null,
   "id": "232a51e5",
   "metadata": {},
   "outputs": [],
   "source": [
    "from sklearn.datasets import make_moons\n",
    "\n",
    "# Generate make_moons dataset\n",
    "X_moon, y_moon = make_moons(n_samples=300, noise=0.2, random_state=42)\n",
    "X_moon_scaled = StandardScaler().fit_transform(X_moon)"
   ]
  },
  {
   "cell_type": "code",
   "execution_count": null,
   "id": "5c2b45f9",
   "metadata": {},
   "outputs": [],
   "source": [
    "# Train models and plot decision boundaries\n",
    "tree_moon = DecisionTreeClassifier(max_depth=4)\n",
    "tree_moon.fit(X_moon_scaled, y_moon)\n",
    "svm_moon = SVC(kernel='rbf', C=1)\n",
    "svm_moon.fit(X_moon_scaled, y_moon)\n",
    "\n",
    "fig, axes = plt.subplots(1, 2, figsize=(12, 5))\n",
    "plot_decision_boundary(tree_moon, X_moon_scaled, y_moon, axes[0], \"Decision Tree (make_moons)\")\n",
    "plot_decision_boundary(svm_moon, X_moon_scaled, y_moon, axes[1], \"SVM (RBF Kernel, make_moons)\")\n",
    "plt.tight_layout()\n",
    "plt.show()"
   ]
  }
 ],
 "metadata": {},
 "nbformat": 4,
 "nbformat_minor": 5
}
