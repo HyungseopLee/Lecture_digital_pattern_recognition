{
 "cells": [
  {
   "cell_type": "markdown",
   "id": "a0308c48",
   "metadata": {},
   "source": [
    "# 🧠 Decision Trees vs. SVM: Nonlinear Classification\n",
    "This notebook is designed to help you understand how decision trees and support vector machines (SVMs) handle classification tasks, especially when the decision boundaries are nonlinear.\n",
    "\n",
    "You'll:\n",
    "- Visualize decision boundaries\n",
    "- Experiment with model parameters\n",
    "- Compare different datasets\n",
    "- Reflect on interpretability and generalization\n",
    "\n",
    "👉 **Make sure to run the code and write down your observations in the markdown cells provided.**"
   ]
  },
  {
   "cell_type": "code",
   "execution_count": null,
   "id": "4b9c1232",
   "metadata": {},
   "outputs": [],
   "source": [
    "# Imports\n",
    "import numpy as np\n",
    "import matplotlib.pyplot as plt\n",
    "from sklearn.datasets import load_iris, make_moons, make_circles, make_classification\n",
    "from sklearn.tree import DecisionTreeClassifier\n",
    "from sklearn.svm import SVC\n",
    "from sklearn.preprocessing import StandardScaler\n",
    "from sklearn.metrics import accuracy_score\n",
    "from matplotlib.colors import ListedColormap"
   ]
  },
  {
   "cell_type": "code",
   "execution_count": null,
   "id": "59b94d52",
   "metadata": {},
   "outputs": [],
   "source": [
    "def plot_decision_boundary(clf, X, y, ax, title):\n",
    "    cmap_light = ListedColormap(['#FFAAAA', '#AAAAFF'])\n",
    "    cmap_bold = ['#FF0000', '#0000FF']\n",
    "    x_min, x_max = X[:, 0].min() - 1, X[:, 0].max() + 1\n",
    "    y_min, y_max = X[:, 1].min() - 1, X[:, 1].max() + 1\n",
    "    xx, yy = np.meshgrid(np.linspace(x_min, x_max, 300),\n",
    "                         np.linspace(y_min, y_max, 300))\n",
    "    Z = clf.predict(np.c_[xx.ravel(), yy.ravel()])\n",
    "    Z = Z.reshape(xx.shape)\n",
    "    ax.contourf(xx, yy, Z, cmap=cmap_light, alpha=0.6)\n",
    "    for i, color in zip(np.unique(y), cmap_bold):\n",
    "        idx = np.where(y == i)\n",
    "        ax.scatter(X[idx, 0], X[idx, 1], c=color, label=f\"Class {i}\", edgecolor='k', s=30)\n",
    "    ax.set_title(title)\n",
    "    ax.legend()"
   ]
  },
  {
   "cell_type": "markdown",
   "id": "f527e0a9",
   "metadata": {},
   "source": [
    "## 1. Iris Dataset: Basic Binary Classification"
   ]
  },
  {
   "cell_type": "markdown",
   "id": "0af77e48",
   "metadata": {},
   "source": [
    "### Load and preprocess the Iris dataset"
   ]
  },
  {
   "cell_type": "code",
   "execution_count": null,
   "id": "68dd9238",
   "metadata": {},
   "outputs": [],
   "source": [
    "Load Iris dataset and select only 2 features and 2 classes\n"
   ]
  },
  {
   "cell_type": "markdown",
   "id": "9998e408",
   "metadata": {},
   "source": [
    "### Train classifiers (Decision Tree and SVM)"
   ]
  },
  {
   "cell_type": "code",
   "execution_count": null,
   "id": "8392ff21",
   "metadata": {},
   "outputs": [],
   "source": [
    "Train models here\n"
   ]
  },
  {
   "cell_type": "markdown",
   "id": "21aecffb",
   "metadata": {},
   "source": [
    "### Visualize the decision boundaries"
   ]
  },
  {
   "cell_type": "code",
   "execution_count": null,
   "id": "99ea7187",
   "metadata": {},
   "outputs": [],
   "source": [
    "Plot decision boundaries here using the function above\n"
   ]
  },
  {
   "cell_type": "markdown",
   "id": "eecb8503",
   "metadata": {},
   "source": [
    "## 2. make_moons Dataset: Nonlinear Boundary"
   ]
  },
  {
   "cell_type": "markdown",
   "id": "68860e52",
   "metadata": {},
   "source": [
    "### Generate the make_moons dataset"
   ]
  },
  {
   "cell_type": "code",
   "execution_count": null,
   "id": "1cfa68e2",
   "metadata": {},
   "outputs": [],
   "source": [
    "Use make_moons(n_samples=300, noise=0.2)\n"
   ]
  },
  {
   "cell_type": "markdown",
   "id": "b3ec3602",
   "metadata": {},
   "source": [
    "### Train and visualize Decision Tree and SVM"
   ]
  },
  {
   "cell_type": "code",
   "execution_count": null,
   "id": "58fb2e99",
   "metadata": {},
   "outputs": [],
   "source": [
    "Fit and plot models\n"
   ]
  },
  {
   "cell_type": "markdown",
   "id": "5dce2960",
   "metadata": {},
   "source": [
    "## 3. Parameter Exploration"
   ]
  },
  {
   "cell_type": "markdown",
   "id": "eff104ad",
   "metadata": {},
   "source": [
    "### Decision Tree: Try max_depth = 1, 3, 5, 10"
   ]
  },
  {
   "cell_type": "code",
   "execution_count": null,
   "id": "c2fbfa84",
   "metadata": {},
   "outputs": [],
   "source": [
    "Fit trees with different depths and visualize\n"
   ]
  },
  {
   "cell_type": "markdown",
   "id": "c137d798",
   "metadata": {},
   "source": [
    "### SVM: Try C = 0.1, 1, 10 and kernel = 'linear' vs 'rbf'"
   ]
  },
  {
   "cell_type": "code",
   "execution_count": null,
   "id": "feeb854d",
   "metadata": {},
   "outputs": [],
   "source": [
    "Fit SVMs with different C and kernel values\n"
   ]
  },
  {
   "cell_type": "markdown",
   "id": "017ad18d",
   "metadata": {},
   "source": [
    "## 4. Dataset Variants"
   ]
  },
  {
   "cell_type": "markdown",
   "id": "9c05d7b2",
   "metadata": {},
   "source": [
    "### Try make_circles and make_classification"
   ]
  },
  {
   "cell_type": "code",
   "execution_count": null,
   "id": "16d36939",
   "metadata": {},
   "outputs": [],
   "source": [
    "Generate and visualize decision boundaries on different datasets\n"
   ]
  },
  {
   "cell_type": "markdown",
   "id": "33e84347",
   "metadata": {},
   "source": [
    "## 5. Evaluation"
   ]
  },
  {
   "cell_type": "markdown",
   "id": "843a2918",
   "metadata": {},
   "source": [
    "### Compare model performance using accuracy"
   ]
  },
  {
   "cell_type": "code",
   "execution_count": null,
   "id": "fc716406",
   "metadata": {},
   "outputs": [],
   "source": [
    "Evaluate using accuracy_score\n"
   ]
  },
  {
   "cell_type": "markdown",
   "id": "b9a8f802",
   "metadata": {},
   "source": [
    "## 6. Reflection Questions"
   ]
  },
  {
   "cell_type": "markdown",
   "id": "7c44a573",
   "metadata": {},
   "source": [
    "### Think and write"
   ]
  },
  {
   "cell_type": "code",
   "execution_count": null,
   "id": "06accc52",
   "metadata": {},
   "outputs": [],
   "source": [
    "1. Why are Decision Trees axis-aligned?\n",
    "2. When does SVM outperform a Tree?\n",
    "3. How does noise affect both models?\n"
   ]
  }
 ],
 "metadata": {},
 "nbformat": 4,
 "nbformat_minor": 5
}
