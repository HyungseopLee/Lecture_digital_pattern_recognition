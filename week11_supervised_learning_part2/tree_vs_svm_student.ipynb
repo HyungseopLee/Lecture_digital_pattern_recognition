{
 "cells": [
  {
   "cell_type": "markdown",
   "id": "d451d01d",
   "metadata": {},
   "source": [
    "# 🧪 Decision Tree vs SVM: Nonlinear Boundary Exploration\n",
    "This notebook explores how decision trees (axis-aligned) and support vector machines (nonlinear kernel) behave on different datasets.\n",
    "You will:\n",
    "- Visualize model boundaries\n",
    "- Tune hyperparameters\n",
    "- Compare model behavior\n",
    "- Think critically about non-linear decision surfaces"
   ]
  },
  {
   "cell_type": "markdown",
   "id": "79e98aa4",
   "metadata": {},
   "source": [
    "## 🔢 1. Load and visualize the Iris dataset (2 classes, 2 features)\n",
    "We will use only 2 features for 2D visualization. Try to understand how axis-aligned splits appear."
   ]
  },
  {
   "cell_type": "code",
   "execution_count": null,
   "id": "f67f7825",
   "metadata": {},
   "outputs": [],
   "source": [
    "# TODO: Load iris dataset with only class 0 and 1 and two features (sepal length, petal length)\n"
   ]
  },
  {
   "cell_type": "code",
   "execution_count": null,
   "id": "5465a8e4",
   "metadata": {},
   "outputs": [],
   "source": [
    "# TODO: Standardize the features using StandardScaler\n"
   ]
  },
  {
   "cell_type": "code",
   "execution_count": null,
   "id": "e6762ad6",
   "metadata": {},
   "outputs": [],
   "source": [
    "# TODO: Train a DecisionTreeClassifier and an SVM with RBF kernel\n"
   ]
  },
  {
   "cell_type": "code",
   "execution_count": null,
   "id": "a3df58fa",
   "metadata": {},
   "outputs": [],
   "source": [
    "# TODO: Visualize decision boundaries using a contour plot. Write a helper function for this.\n"
   ]
  },
  {
   "cell_type": "markdown",
   "id": "c047110e",
   "metadata": {},
   "source": [
    "## 🌙 2. Try with make_moons dataset\n",
    "This dataset is known to be challenging for axis-aligned classifiers."
   ]
  },
  {
   "cell_type": "code",
   "execution_count": null,
   "id": "1dcd0b3c",
   "metadata": {},
   "outputs": [],
   "source": [
    "# TODO: Use make_moons with noise=0.2 and 300 samples\n"
   ]
  },
  {
   "cell_type": "code",
   "execution_count": null,
   "id": "2d5a9b99",
   "metadata": {},
   "outputs": [],
   "source": [
    "# TODO: Standardize and train both classifiers again\n"
   ]
  },
  {
   "cell_type": "code",
   "execution_count": null,
   "id": "62fbf746",
   "metadata": {},
   "outputs": [],
   "source": [
    "# TODO: Visualize the decision boundary again\n"
   ]
  },
  {
   "cell_type": "markdown",
   "id": "ec843557",
   "metadata": {},
   "source": [
    "## 🎯 3. Experiments\n",
    "Try different values of max_depth for the tree and C for the SVM. Observe the boundary shapes.\n",
    "Try SVM with linear kernel.\n",
    "Write your observations below."
   ]
  },
  {
   "cell_type": "code",
   "execution_count": null,
   "id": "10f23a31",
   "metadata": {},
   "outputs": [],
   "source": [
    "# TODO: Try max_depth = 1, 3, 10 in DecisionTreeClassifier\n"
   ]
  },
  {
   "cell_type": "code",
   "execution_count": null,
   "id": "3cbe59b7",
   "metadata": {},
   "outputs": [],
   "source": [
    "# TODO: Try C = 0.1, 1, 10 in SVC and change kernel to 'linear'\n"
   ]
  },
  {
   "cell_type": "markdown",
   "id": "0d48378e",
   "metadata": {},
   "source": [
    "## 🧠 4. Reflection Questions\n",
    "1. Why are decision trees axis-aligned?\n",
    "2. When does SVM outperform trees?\n",
    "3. How does noise affect the models?\n",
    "Write your answers below."
   ]
  },
  {
   "cell_type": "code",
   "execution_count": null,
   "id": "9daa56af",
   "metadata": {},
   "outputs": [],
   "source": [
    "# TODO: Type your answers here as markdown or comments\n"
   ]
  }
 ],
 "metadata": {},
 "nbformat": 4,
 "nbformat_minor": 5
}
